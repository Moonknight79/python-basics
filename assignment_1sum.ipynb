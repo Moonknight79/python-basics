{
 "cells": [
  {
   "cell_type": "raw",
   "id": "6d07054d",
   "metadata": {},
   "source": [
    "## 1. In the below elements which of them are values or an expression? eg:- values can be\n",
    "integer or string and expressions will be mathematical operators."
   ]
  },
  {
   "cell_type": "raw",
   "id": "dfbd48a6",
   "metadata": {},
   "source": [
    "ans-\n",
    "* Multiplication operator\n",
    "'hello'   String value\n",
    "-87.8     Float value\n",
    "-        Subtraction operator\n",
    "/        Division operator\n",
    "+        Addition opreator\n",
    "6        Integer value"
   ]
  },
  {
   "cell_type": "raw",
   "id": "3e2789fa",
   "metadata": {},
   "source": [
    "## 2. What is the difference between string and variable?"
   ]
  },
  {
   "cell_type": "raw",
   "id": "2dc3bcf5",
   "metadata": {},
   "source": [
    "ans-\n",
    "String : string is a datatype which can take one or more characters.\n",
    "Variable : variable is to hold anytype of values, it is like storing the values"
   ]
  },
  {
   "cell_type": "raw",
   "id": "812796c0",
   "metadata": {},
   "source": [
    "## 3. Describe three different data types"
   ]
  },
  {
   "cell_type": "raw",
   "id": "2672b613",
   "metadata": {},
   "source": [
    "ans-\n",
    "int() - int datatype is used to hold the integer values.\n",
    "Float() - float datatype is used to hold the decimal values.\n",
    "str() - str datatype is used to hold the string values.\n"
   ]
  },
  {
   "cell_type": "raw",
   "id": "798f1265",
   "metadata": {},
   "source": [
    "## 4. What is an expression made up of? What do all expressions do?"
   ]
  },
  {
   "cell_type": "raw",
   "id": "322eb496",
   "metadata": {},
   "source": [
    "ans-|\n",
    "An expression is made up of one or more variables, constants, operators, and function calls. All expressions in programming or mathematics evaluate to a value."
   ]
  },
  {
   "cell_type": "raw",
   "id": "913ee0a4",
   "metadata": {},
   "source": [
    "## 5. This assignment statements, like spam = 10. What is the difference between an expression and a statement?"
   ]
  },
  {
   "cell_type": "raw",
   "id": "6eebb104",
   "metadata": {},
   "source": [
    "ans-\n",
    "Expression is combination of operators, values or variables which reduce into a value. While statement represents the action/command need to perform by interpreter.\n"
   ]
  },
  {
   "cell_type": "raw",
   "id": "5e2bf1c4",
   "metadata": {},
   "source": [
    "## 6. After running the following code, what does the variable bacon contain?"
   ]
  },
  {
   "cell_type": "code",
   "execution_count": 2,
   "id": "92d8710e",
   "metadata": {},
   "outputs": [
    {
     "data": {
      "text/plain": [
       "23"
      ]
     },
     "execution_count": 2,
     "metadata": {},
     "output_type": "execute_result"
    }
   ],
   "source": [
    "bacon = 22\n",
    "bacon + 1"
   ]
  },
  {
   "cell_type": "raw",
   "id": "d28d7c9a",
   "metadata": {},
   "source": [
    "ans- 23"
   ]
  },
  {
   "cell_type": "raw",
   "id": "e078e531",
   "metadata": {},
   "source": [
    "## 7. What should the values of the following two terms be?"
   ]
  },
  {
   "cell_type": "code",
   "execution_count": 4,
   "id": "518b73fa",
   "metadata": {},
   "outputs": [
    {
     "data": {
      "text/plain": [
       "'spamspamspam'"
      ]
     },
     "execution_count": 4,
     "metadata": {},
     "output_type": "execute_result"
    }
   ],
   "source": [
    "'spam' + 'spamspam'"
   ]
  },
  {
   "cell_type": "code",
   "execution_count": 5,
   "id": "e86fe69b",
   "metadata": {},
   "outputs": [
    {
     "data": {
      "text/plain": [
       "'spamspamspam'"
      ]
     },
     "execution_count": 5,
     "metadata": {},
     "output_type": "execute_result"
    }
   ],
   "source": [
    "'spam' * 3"
   ]
  },
  {
   "cell_type": "raw",
   "id": "22fb4a7f",
   "metadata": {},
   "source": [
    "## 8. Why is eggs a valid variable name while 100 is invalid?"
   ]
  },
  {
   "cell_type": "raw",
   "id": "b13c91e7",
   "metadata": {},
   "source": [
    "ans-\n",
    "Always variable should start with alphabet or the underscore character."
   ]
  },
  {
   "cell_type": "raw",
   "id": "af0ceb64",
   "metadata": {},
   "source": [
    "## 9. What three functions can be used to get the integer, floating-point number, or string\n",
    "version of a value?"
   ]
  },
  {
   "cell_type": "raw",
   "id": "a0d52f4c",
   "metadata": {},
   "source": [
    "ans-\n",
    "For integer, int()\n",
    "For floating-point number, float()\n",
    "For string , str()"
   ]
  },
  {
   "cell_type": "raw",
   "id": "96168d55",
   "metadata": {},
   "source": [
    "## 10. Why does this expression cause an error? How can you fix it?\n",
    "'I have eaten ' + 99 + ' burritos.'\n"
   ]
  },
  {
   "cell_type": "raw",
   "id": "3c9f60eb",
   "metadata": {},
   "source": [
    "ans- \n",
    "Issue is concatenating, string with integer. To avoid, use type casting to 99 value then answer could be:\n"
   ]
  },
  {
   "cell_type": "code",
   "execution_count": 6,
   "id": "95322d64",
   "metadata": {},
   "outputs": [
    {
     "data": {
      "text/plain": [
       "'I have eaten 99 burritos.'"
      ]
     },
     "execution_count": 6,
     "metadata": {},
     "output_type": "execute_result"
    }
   ],
   "source": [
    "'I have eaten ' + str(99) + ' burritos.'"
   ]
  },
  {
   "cell_type": "code",
   "execution_count": null,
   "id": "96a7a36f",
   "metadata": {},
   "outputs": [],
   "source": []
  }
 ],
 "metadata": {
  "kernelspec": {
   "display_name": "Python 3 (ipykernel)",
   "language": "python",
   "name": "python3"
  },
  "language_info": {
   "codemirror_mode": {
    "name": "ipython",
    "version": 3
   },
   "file_extension": ".py",
   "mimetype": "text/x-python",
   "name": "python",
   "nbconvert_exporter": "python",
   "pygments_lexer": "ipython3",
   "version": "3.9.12"
  }
 },
 "nbformat": 4,
 "nbformat_minor": 5
}
